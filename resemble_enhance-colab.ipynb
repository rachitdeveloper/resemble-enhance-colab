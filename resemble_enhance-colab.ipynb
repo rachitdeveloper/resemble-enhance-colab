{
  "nbformat": 4,
  "nbformat_minor": 0,
  "metadata": {
    "colab": {
      "provenance": [],
      "gpuType": "T4"
    },
    "kernelspec": {
      "name": "python3",
      "display_name": "Python 3"
    },
    "language_info": {
      "name": "python"
    },
    "accelerator": "GPU"
  },
  "cells": [
    {
      "cell_type": "code",
      "execution_count": 1,
      "metadata": {
        "colab": {
          "base_uri": "https://localhost:8080/"
        },
        "id": "q-fydctqQVim",
        "outputId": "aa0b0dd3-f3d3-4a7f-adb4-5b11907763da"
      },
      "outputs": [],
      "source": [
        "# download Repo\n",
        "!git clone https://github.com/resemble-ai/resemble-enhance.git"
      ]
    },
    {
      "cell_type": "code",
      "source": [
        "# First run then restert runtime\n",
        "%cd /content/resemble-enhance\n",
        "!pip install -r requirements.txt"
      ],
      "metadata": {
        "colab": {
          "base_uri": "https://localhost:8080/"
        },
        "id": "mnH1KLXJQaIF",
        "outputId": "41cf0e3f-6d82-4327-bb53-45e079ce6d12"
      },
      "execution_count": 3,
      "outputs": [],
    {
      "cell_type": "code",
      "source": [
        "#running on colab or kaggle\n",
        "# Starting with RemoteMoe\n",
        "\n",
        "%cd /content/resemble-enhance\n",
        "!mkdir  ~/.ssh/\n",
        "!touch  ~/.ssh/known_hosts\n",
        "!ssh-keyscan -t rsa remote.moe >> ~/.ssh/known_hosts\n",
        "!rm /root/.ssh/id_rsa\n",
        "!ssh-keygen -t rsa -b 4096 -f /root/.ssh/id_rsa -q -N \"\"\n",
        "!python /content/resemble-enhance/app.py & ssh -R 80:127.0.0.1:7860 -o StrictHostKeyChecking=no -i /root/.ssh/id_rsa remote.moe"
      ],
      "metadata": {
        "id": "4WoRjwEOSakH"
      },
      "execution_count": null,
      "outputs": []
    },
    {
      "cell_type": "code",
      "source": [
        "#running locally\n",
        "!python app.py"
      ],
      "metadata": {
        "id": "oc7xS9BPU6D8"
      },
      "execution_count": null,
      "outputs": []
    }
  ]
}
