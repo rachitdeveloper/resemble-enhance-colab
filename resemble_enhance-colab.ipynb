{
  "cells": [
    {
      "cell_type": "code",
      "execution_count": null,
      "metadata": {
        "id": "q-fydctqQVim"
      },
      "outputs": [],
      "source": [
        "# clone Repo\n",
        "!git clone https://github.com/resemble-ai/resemble-enhance.git"
      ]
    },
    {
      "cell_type": "code",
      "execution_count": null,
      "metadata": {
        "colab": {
          "background_save": true
        },
        "id": "mnH1KLXJQaIF"
      },
      "outputs": [],
      "source": [
        "# First run then restert runtime\n",
        "%cd /content/resemble-enhance\n",
        "!pip install -r requirements.txt"
      ]
    },
    {
      "cell_type": "code",
      "execution_count": null,
      "metadata": {
        "id": "4WoRjwEOSakH"
      },
      "outputs": [],
      "source": [
        "#running on colab or kaggle\n",
        "# Starting with RemoteMoe\n",
        "\n",
        "%cd /content/resemble-enhance\n",
        "!mkdir  ~/.ssh/\n",
        "!touch  ~/.ssh/known_hosts\n",
        "!ssh-keyscan -t rsa remote.moe >> ~/.ssh/known_hosts\n",
        "!rm /root/.ssh/id_rsa\n",
        "!ssh-keygen -t rsa -b 4096 -f /root/.ssh/id_rsa -q -N \"\"\n",
        "!python /content/resemble-enhance/app.py & ssh -R 80:127.0.0.1:7860 -o StrictHostKeyChecking=no -i /root/.ssh/id_rsa remote.moe"
      ]
    },
    {
      "cell_type": "code",
      "execution_count": null,
      "metadata": {
        "id": "oc7xS9BPU6D8"
      },
      "outputs": [],
      "source": [
        "#running locally\n",
        "!python app.py"
      ]
    }
  ],
  "metadata": {
    "accelerator": "GPU",
    "colab": {
      "provenance": []
    },
    "kernelspec": {
      "display_name": "Python 3",
      "name": "python3"
    },
    "language_info": {
      "name": "python"
    }
  },
  "nbformat": 4,
  "nbformat_minor": 0
}